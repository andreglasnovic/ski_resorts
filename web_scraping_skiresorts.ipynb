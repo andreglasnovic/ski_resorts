{
 "cells": [
  {
   "cell_type": "code",
   "execution_count": 1,
   "metadata": {},
   "outputs": [],
   "source": [
    "#!/usr/bin/env python3\n",
    "# -*- coding: utf-8 -*-\n",
    "\"\"\"\n",
    "Created on Sun Nov  1 16:00:57 2020\n",
    "\n",
    "@author: aglasnovic\n",
    "\"\"\"\n",
    "import requests\n",
    "from bs4 import BeautifulSoup as bs\n",
    "\n",
    "url = \"https://www.skiresort.info/ski-resorts/europe/\"\n",
    "\n",
    "r = requests.get(url)\n",
    "\n",
    "\n",
    "page = bs(r.content,features=(\"lxml\"))\n",
    "\n",
    "url2 = \"https://www.skiresort.info/ski-resorts/europe/page/2/\"\n",
    "url3 = \"https://www.skiresort.info/ski-resorts/europe/page/3/\"\n",
    "url4 = \"https://www.skiresort.info/ski-resorts/europe/page/4/\"\n",
    "url5 = \"https://www.skiresort.info/ski-resorts/europe/page/5/\"\n",
    "url6 = \"https://www.skiresort.info/ski-resorts/europe/page/6/\"\n",
    "url7 = 'https://www.skiresort.info/ski-resorts/europe/page/7/'\n",
    "url8 = 'https://www.skiresort.info/ski-resorts/europe/page/8/'\n",
    "url9 = 'https://www.skiresort.info/ski-resorts/europe/page/9/'\n",
    "url10 = 'https://www.skiresort.info/ski-resorts/europe/page/10/'\n",
    "url11 = 'https://www.skiresort.info/ski-resorts/europe/page/11/'\n",
    "url12 = 'https://www.skiresort.info/ski-resorts/europe/page/12/'\n",
    "url13 = 'https://www.skiresort.info/ski-resorts/europe/page/13/'\n",
    "\n",
    "r2 = requests.get(url2)\n",
    "r3 = requests.get(url3)\n",
    "r4= requests.get(url4)\n",
    "r5= requests.get(url5)\n",
    "r6= requests.get(url6)\n",
    "r7= requests.get(url7)\n",
    "r8= requests.get(url8)\n",
    "r9= requests.get(url9)\n",
    "r10= requests.get(url10)\n",
    "r11= requests.get(url11)\n",
    "r12= requests.get(url12)\n",
    "r13= requests.get(url13)\n",
    "\n",
    "\n",
    "page2 = bs(r2.content,features=(\"lxml\"))\n",
    "page3= bs(r3.content,features=(\"lxml\"))\n",
    "page4= bs(r4.content,features=(\"lxml\"))\n",
    "page5= bs(r5.content,features=(\"lxml\"))\n",
    "page6= bs(r6.content,features=(\"lxml\"))\n",
    "page7= bs(r7.content,features=(\"lxml\"))\n",
    "page8= bs(r8.content,features=(\"lxml\"))\n",
    "page9= bs(r9.content,features=(\"lxml\"))\n",
    "page10= bs(r10.content,features=(\"lxml\"))\n",
    "page11= bs(r11.content,features=(\"lxml\"))\n",
    "page12= bs(r12.content,features=(\"lxml\"))\n",
    "page13= bs(r13.content,features=(\"lxml\"))\n",
    "\n",
    "pages = [page,page2,page3,page4,page5,page6,page7,page8,page9,page10,page11,page12,page13]\n",
    "\n",
    "#getting country"
   ]
  },
  {
   "cell_type": "code",
   "execution_count": 2,
   "metadata": {},
   "outputs": [
    {
     "data": {
      "text/plain": [
       "' Lavarone '"
      ]
     },
     "execution_count": 2,
     "metadata": {},
     "output_type": "execute_result"
    }
   ],
   "source": [
    "#getting a name\n",
    "\n",
    "names = [p.find_all(\"a\", attrs = {\"class\":\"h3\"}) for p in pages]\n",
    "\n",
    "names[2][0].string\n"
   ]
  },
  {
   "cell_type": "code",
   "execution_count": 3,
   "metadata": {},
   "outputs": [],
   "source": [
    "names1 = [names[0][i].string for i in range(0,50)]\n",
    "names2 = [names[1][i].string for i in range(0,200)]\n",
    "names3 = [names[2][i].string for i in range(0,200)]\n",
    "names4 = [names[3][i].string for i in range(0,200)]\n",
    "names5 = [names[4][i].string for i in range(0,200)]\n",
    "names6 = [names[5][i].string for i in range(0,200)]\n",
    "names7 = [names[6][i].string for i in range(0,200)]\n",
    "names8 = [names[7][i].string for i in range(0,200)]\n",
    "names9 = [names[8][i].string for i in range(0,200)]\n",
    "names10 = [names[9][i].string for i in range(0,200)]\n",
    "names11 = [names[10][i].string for i in range(0,200)]\n",
    "names12 = [names[11][i].string for i in range(0,200)]\n",
    "names13 = [names[12][i].string for i in range(0,200)]\n",
    "\n"
   ]
  },
  {
   "cell_type": "code",
   "execution_count": 4,
   "metadata": {},
   "outputs": [
    {
     "data": {
      "text/plain": [
       "' Höhn-Schönberg '"
      ]
     },
     "execution_count": 4,
     "metadata": {},
     "output_type": "execute_result"
    }
   ],
   "source": [
    "names13[199]"
   ]
  },
  {
   "cell_type": "code",
   "execution_count": 5,
   "metadata": {},
   "outputs": [
    {
     "data": {
      "text/plain": [
       "' Walmendingerhorn/\\u200bHeuberg – Mittelberg/\\u200bHirschegg '"
      ]
     },
     "execution_count": 5,
     "metadata": {},
     "output_type": "execute_result"
    }
   ],
   "source": [
    "names_full = names1+names2+names3+names4+names5+names6+names7+names8+names9+names10+names11+names12+names13\n",
    "names_full[249]"
   ]
  },
  {
   "cell_type": "code",
   "execution_count": 138,
   "metadata": {},
   "outputs": [
    {
     "data": {
      "text/plain": [
       "2450"
      ]
     },
     "execution_count": 138,
     "metadata": {},
     "output_type": "execute_result"
    }
   ],
   "source": [
    "len(names_full)"
   ]
  },
  {
   "cell_type": "code",
   "execution_count": 7,
   "metadata": {},
   "outputs": [
    {
     "data": {
      "text/plain": [
       "' Ischgl/\\u200bSamnaun – Silvretta Arena '"
      ]
     },
     "execution_count": 7,
     "metadata": {},
     "output_type": "execute_result"
    }
   ],
   "source": [
    "names_full[0]"
   ]
  },
  {
   "cell_type": "markdown",
   "metadata": {},
   "source": [
    "## Getting a Country"
   ]
  },
  {
   "cell_type": "code",
   "execution_count": 8,
   "metadata": {},
   "outputs": [],
   "source": [
    "q = page.select(\"div.col-sm-11\")\n"
   ]
  },
  {
   "cell_type": "code",
   "execution_count": 9,
   "metadata": {},
   "outputs": [],
   "source": [
    "pages_ = [page2,page3,page4,page5,page6,page7,page8,page9,page10,page11,page12,page13]"
   ]
  },
  {
   "cell_type": "code",
   "execution_count": 10,
   "metadata": {},
   "outputs": [],
   "source": [
    "country_page1 = [page.select(\"div.col-sm-11\")[i].select(\"div.sub-breadcrumb\")[0].select('a')[1].string for i in range(0,50)]"
   ]
  },
  {
   "cell_type": "code",
   "execution_count": 11,
   "metadata": {},
   "outputs": [],
   "source": [
    "country = []"
   ]
  },
  {
   "cell_type": "code",
   "execution_count": 12,
   "metadata": {},
   "outputs": [],
   "source": [
    "for p in pages_:\n",
    "    country += [p.select(\"div.col-sm-11\")[i].select(\"div.sub-breadcrumb\")[0].select('a')[1].string for i in range(0,200)]\n",
    " \n"
   ]
  },
  {
   "cell_type": "code",
   "execution_count": 13,
   "metadata": {},
   "outputs": [],
   "source": [
    "actual_countries = country_page1 + country "
   ]
  },
  {
   "cell_type": "code",
   "execution_count": 14,
   "metadata": {},
   "outputs": [
    {
     "data": {
      "text/plain": [
       "'Austria'"
      ]
     },
     "execution_count": 14,
     "metadata": {},
     "output_type": "execute_result"
    }
   ],
   "source": [
    "actual_countries[2]"
   ]
  },
  {
   "cell_type": "code",
   "execution_count": 137,
   "metadata": {},
   "outputs": [
    {
     "data": {
      "text/plain": [
       "2450"
      ]
     },
     "execution_count": 137,
     "metadata": {},
     "output_type": "execute_result"
    }
   ],
   "source": [
    "len(actual_countries)"
   ]
  },
  {
   "cell_type": "markdown",
   "metadata": {},
   "source": [
    "## Getting Province"
   ]
  },
  {
   "cell_type": "code",
   "execution_count": 152,
   "metadata": {},
   "outputs": [],
   "source": [
    "list_1_ = []\n",
    "for i in range(0,50):\n",
    "    try:\n",
    "        list_1_ += [page.select(\"div.col-sm-11\")[i].select(\"div.sub-breadcrumb\")[0].select('a')[2].string]\n",
    "    except IndexError:\n",
    "        list_1_ += [\"None\"]"
   ]
  },
  {
   "cell_type": "code",
   "execution_count": 153,
   "metadata": {},
   "outputs": [],
   "source": [
    "list_2_ = []\n",
    "for i in range(0,200):\n",
    "    try:\n",
    "        list_2_ += [page2.select(\"div.col-sm-11\")[i].select(\"div.sub-breadcrumb\")[0].select('a')[2].string]\n",
    "    except IndexError:\n",
    "        list_2_ += [\"None\"]"
   ]
  },
  {
   "cell_type": "code",
   "execution_count": 18,
   "metadata": {},
   "outputs": [],
   "source": [
    "list_3 = []\n",
    "for i in range(0,200):\n",
    "    try:\n",
    "        list_3 += [page3.select(\"div.col-sm-11\")[i].select(\"div.sub-breadcrumb\")[0].select('a')[2].string]\n",
    "    except IndexError:\n",
    "        list_3 += [\"None\"]\n",
    "\n",
    "list_4 = []\n",
    "for i in range(0,200):\n",
    "    try:\n",
    "        list_4 += [page4.select(\"div.col-sm-11\")[i].select(\"div.sub-breadcrumb\")[0].select('a')[2].string]\n",
    "    except IndexError:\n",
    "        list_4 += [\"None\"]\n",
    "        \n",
    "list_5 = []\n",
    "for i in range(0,200):\n",
    "    try:\n",
    "        list_5 += [page5.select(\"div.col-sm-11\")[i].select(\"div.sub-breadcrumb\")[0].select('a')[2].string]\n",
    "    except IndexError:\n",
    "        list_5 += [\"None\"]\n",
    "\n",
    "list_6 = []\n",
    "for i in range(0,200):\n",
    "    try:\n",
    "        list_6 += [page6.select(\"div.col-sm-11\")[i].select(\"div.sub-breadcrumb\")[0].select('a')[2].string]\n",
    "    except IndexError:\n",
    "        list_6 += [\"None\"]\n",
    "        \n",
    "list_7 = []\n",
    "for i in range(0,200):\n",
    "    try:\n",
    "        list_7 += [page7.select(\"div.col-sm-11\")[i].select(\"div.sub-breadcrumb\")[0].select('a')[2].string]\n",
    "    except IndexError:\n",
    "        list_7 += [\"None\"]\n",
    "        \n",
    "list_8 = []\n",
    "for i in range(0,200):\n",
    "    try:\n",
    "        list_8 += [page8.select(\"div.col-sm-11\")[i].select(\"div.sub-breadcrumb\")[0].select('a')[2].string]\n",
    "    except IndexError:\n",
    "        list_8 += [\"None\"]\n",
    "        \n",
    "list_9 = []\n",
    "for i in range(0,200):\n",
    "    try:\n",
    "        list_9 += [page9.select(\"div.col-sm-11\")[i].select(\"div.sub-breadcrumb\")[0].select('a')[2].string]\n",
    "    except IndexError:\n",
    "        list_9 += [\"None\"]\n",
    "        \n",
    "list_10 = []\n",
    "for i in range(0,200):\n",
    "    try:\n",
    "        list_10 += [page10.select(\"div.col-sm-11\")[i].select(\"div.sub-breadcrumb\")[0].select('a')[2].string]\n",
    "    except IndexError:\n",
    "        list_10 += [\"None\"]\n",
    "        \n",
    "list_11 = []\n",
    "for i in range(0,200):\n",
    "    try:\n",
    "        list_11 += [page11.select(\"div.col-sm-11\")[i].select(\"div.sub-breadcrumb\")[0].select('a')[2].string]\n",
    "    except IndexError:\n",
    "        list_11 += [\"None\"]\n",
    "        \n",
    "list_12 = []\n",
    "for i in range(0,200):\n",
    "    try:\n",
    "        list_12 += [page12.select(\"div.col-sm-11\")[i].select(\"div.sub-breadcrumb\")[0].select('a')[2].string]\n",
    "    except IndexError:\n",
    "        list_12 += [\"None\"]\n",
    "        \n",
    "list_13 = []\n",
    "for i in range(0,200):\n",
    "    try:\n",
    "        list_13 += [page13.select(\"div.col-sm-11\")[i].select(\"div.sub-breadcrumb\")[0].select('a')[2].string]\n",
    "    except IndexError:\n",
    "        list_13 += [\"None\"]"
   ]
  },
  {
   "cell_type": "code",
   "execution_count": 154,
   "metadata": {},
   "outputs": [],
   "source": [
    "actual_provinces = list_1_ +list_2_ +list_3 + list_4 + list_5 + list_6 + list_7 + list_8 + list_9 + list_10 + list_11 + list_12 + list_13"
   ]
  },
  {
   "cell_type": "code",
   "execution_count": 155,
   "metadata": {},
   "outputs": [
    {
     "data": {
      "text/plain": [
       "2450"
      ]
     },
     "execution_count": 155,
     "metadata": {},
     "output_type": "execute_result"
    }
   ],
   "source": [
    "len(actual_provinces) \n",
    "    "
   ]
  },
  {
   "cell_type": "code",
   "execution_count": 156,
   "metadata": {},
   "outputs": [
    {
     "data": {
      "text/plain": [
       "'Central Uplands of Germany (Deutsche Mittelgebirge)'"
      ]
     },
     "execution_count": 156,
     "metadata": {},
     "output_type": "execute_result"
    }
   ],
   "source": [
    "actual_provinces[-1]"
   ]
  },
  {
   "cell_type": "markdown",
   "metadata": {},
   "source": [
    "## Getting rating"
   ]
  },
  {
   "cell_type": "code",
   "execution_count": 21,
   "metadata": {},
   "outputs": [],
   "source": [
    "ratings_page1 = [page.select(\"div.rating-list div\")[i][\"data-rank\"] for i in range(0,50)]\n",
    "#<div class=\"rating-list js-star-ranking stars-middle\" data-rank=\"4.5\" style=\"width: 92%\"></div>"
   ]
  },
  {
   "cell_type": "code",
   "execution_count": 22,
   "metadata": {},
   "outputs": [],
   "source": [
    "actual_rating_list = []\n",
    "for p in pages_:\n",
    "    actual_rating_list += [p.select(\"div.rating-list div\")[i][\"data-rank\"] for i in range(0,200)]\n",
    "    "
   ]
  },
  {
   "cell_type": "code",
   "execution_count": 23,
   "metadata": {},
   "outputs": [],
   "source": [
    "actual_ratings = ratings_page1 + actual_rating_list"
   ]
  },
  {
   "cell_type": "code",
   "execution_count": 135,
   "metadata": {},
   "outputs": [
    {
     "data": {
      "text/plain": [
       "2450"
      ]
     },
     "execution_count": 135,
     "metadata": {},
     "output_type": "execute_result"
    }
   ],
   "source": [
    "len(actual_ratings)"
   ]
  },
  {
   "cell_type": "markdown",
   "metadata": {},
   "source": [
    "## Getting elevation"
   ]
  },
  {
   "cell_type": "code",
   "execution_count": 24,
   "metadata": {},
   "outputs": [
    {
     "data": {
      "text/plain": [
       "'1512 m'"
      ]
     },
     "execution_count": 24,
     "metadata": {},
     "output_type": "execute_result"
    }
   ],
   "source": [
    "page.select(\"table.info-table\")[0].select(\"span\")[1].string"
   ]
  },
  {
   "cell_type": "code",
   "execution_count": 25,
   "metadata": {},
   "outputs": [],
   "source": [
    "elevation_page1 = [page.select(\"table.info-table\")[i].select(\"span\")[1].string for i in range(0,50)]"
   ]
  },
  {
   "cell_type": "code",
   "execution_count": 26,
   "metadata": {},
   "outputs": [],
   "source": [
    "elevation_page2 = [page2.select(\"table.info-table\")[i].select(\"span\")[1].string for i in range(0,200)]"
   ]
  },
  {
   "cell_type": "code",
   "execution_count": 27,
   "metadata": {},
   "outputs": [],
   "source": [
    "elevation_page3 = [page3.select(\"table.info-table\")[i].select(\"span\")[1].string for i in range(0,200)]"
   ]
  },
  {
   "cell_type": "code",
   "execution_count": 28,
   "metadata": {},
   "outputs": [],
   "source": [
    "elevation_page4 = [page4.select(\"table.info-table\")[i].select(\"span\")[1].string for i in range(0,200)]"
   ]
  },
  {
   "cell_type": "code",
   "execution_count": 29,
   "metadata": {},
   "outputs": [],
   "source": [
    "elevation_page5 = [page5.select(\"table.info-table\")[i].select(\"span\")[1].string for i in range(0,200)]"
   ]
  },
  {
   "cell_type": "code",
   "execution_count": 30,
   "metadata": {},
   "outputs": [],
   "source": [
    "elevation_page6 = [page6.select(\"table.info-table\")[i].select(\"span\")[1].string for i in range(0,200)]"
   ]
  },
  {
   "cell_type": "code",
   "execution_count": 31,
   "metadata": {},
   "outputs": [],
   "source": [
    "elevation_page7 = [page7.select(\"table.info-table\")[i].select(\"span\")[1].string for i in range(0,200)]"
   ]
  },
  {
   "cell_type": "code",
   "execution_count": 32,
   "metadata": {},
   "outputs": [],
   "source": [
    "elevation_page8 = [page8.select(\"table.info-table\")[i].select(\"span\")[1].string for i in range(0,200)]"
   ]
  },
  {
   "cell_type": "code",
   "execution_count": 33,
   "metadata": {},
   "outputs": [],
   "source": [
    "elevation_page_9 = []\n",
    "for i in range(0,200):\n",
    "    try:\n",
    "        elevation_page_9 += [page9.select(\"table.info-table\")[i].select(\"span\")[1].string]\n",
    "    except IndexError:\n",
    "        elevation_page_9 += [\"None\"]"
   ]
  },
  {
   "cell_type": "code",
   "execution_count": 34,
   "metadata": {},
   "outputs": [],
   "source": [
    "elevation_page_10 = []\n",
    "for i in range(0,200):\n",
    "    try:\n",
    "        elevation_page_10 += [page10.select(\"table.info-table\")[i].select(\"span\")[1].string]\n",
    "    except IndexError:\n",
    "        elevation_page_10 += [\"None\"]"
   ]
  },
  {
   "cell_type": "code",
   "execution_count": 35,
   "metadata": {},
   "outputs": [],
   "source": [
    "elevation_page_11 = []\n",
    "for i in range(0,200):\n",
    "    try:\n",
    "        elevation_page_11 += [page11.select(\"table.info-table\")[i].select(\"span\")[1].string]\n",
    "    except IndexError:\n",
    "        elevation_page_11 += [\"None\"]"
   ]
  },
  {
   "cell_type": "code",
   "execution_count": 36,
   "metadata": {},
   "outputs": [],
   "source": [
    "elevation_page_12 = []\n",
    "for i in range(0,200):\n",
    "    try:\n",
    "        elevation_page_12 += [page12.select(\"table.info-table\")[i].select(\"span\")[1].string]\n",
    "    except IndexError:\n",
    "        elevation_page_12 += [\"None\"]"
   ]
  },
  {
   "cell_type": "code",
   "execution_count": 37,
   "metadata": {},
   "outputs": [],
   "source": [
    "elevation_page_13 = []\n",
    "for i in range(0,200):\n",
    "    try:\n",
    "        elevation_page_13 += [page13.select(\"table.info-table\")[i].select(\"span\")[1].string]\n",
    "    except IndexError:\n",
    "        elevation_page_13 += [\"None\"]"
   ]
  },
  {
   "cell_type": "code",
   "execution_count": 38,
   "metadata": {},
   "outputs": [],
   "source": [
    "actual_elevation = elevation_page1+elevation_page2+elevation_page3+elevation_page4+elevation_page5+elevation_page6+elevation_page7+elevation_page8+elevation_page_9+elevation_page_10+elevation_page_11+elevation_page_12+elevation_page_13"
   ]
  },
  {
   "cell_type": "code",
   "execution_count": 39,
   "metadata": {},
   "outputs": [
    {
     "data": {
      "text/plain": [
       "'80 m'"
      ]
     },
     "execution_count": 39,
     "metadata": {},
     "output_type": "execute_result"
    }
   ],
   "source": [
    "actual_elevation[2449]"
   ]
  },
  {
   "cell_type": "code",
   "execution_count": 134,
   "metadata": {},
   "outputs": [
    {
     "data": {
      "text/plain": [
       "2450"
      ]
     },
     "execution_count": 134,
     "metadata": {},
     "output_type": "execute_result"
    }
   ],
   "source": [
    "len(actual_elevation)"
   ]
  },
  {
   "cell_type": "markdown",
   "metadata": {},
   "source": [
    "## Lower elevation"
   ]
  },
  {
   "cell_type": "code",
   "execution_count": 40,
   "metadata": {},
   "outputs": [],
   "source": [
    "low_elevation_page_1 = []\n",
    "for i in range(0,50):\n",
    "    try:\n",
    "        low_elevation_page_1 += [page.select(\"table.info-table\")[i].select(\"span\")[2].string]\n",
    "    except IndexError:\n",
    "        low_elevation_page_1 += [\"None\"]\n",
    "        \n",
    "low_elevation_page_2 = []\n",
    "for i in range(0,200):\n",
    "    try:\n",
    "        low_elevation_page_2 += [page2.select(\"table.info-table\")[i].select(\"span\")[2].string]\n",
    "    except IndexError:\n",
    "        low_elevation_page_2 += [\"None\"]\n",
    "    \n",
    "low_elevation_page_3 = []\n",
    "for i in range(0,200):\n",
    "    try:\n",
    "        low_elevation_page_3 += [page3.select(\"table.info-table\")[i].select(\"span\")[2].string]\n",
    "    except IndexError:\n",
    "        low_elevation_page_3 += [\"None\"]\n",
    "\n",
    "low_elevation_page_4 = []\n",
    "for i in range(0,200):\n",
    "    try:\n",
    "        low_elevation_page_4 += [page4.select(\"table.info-table\")[i].select(\"span\")[2].string]\n",
    "    except IndexError:\n",
    "        low_elevation_page_4 += [\"None\"]\n",
    "        \n",
    "low_elevation_page_5 = []\n",
    "for i in range(0,200):\n",
    "    try:\n",
    "        low_elevation_page_5 += [page5.select(\"table.info-table\")[i].select(\"span\")[2].string]\n",
    "    except IndexError:\n",
    "        low_elevation_page_5 += [\"None\"]\n",
    "        \n",
    "low_elevation_page_6 = []\n",
    "for i in range(0,200):\n",
    "    try:\n",
    "        low_elevation_page_6 += [page6.select(\"table.info-table\")[i].select(\"span\")[2].string]\n",
    "    except IndexError:\n",
    "        low_elevation_page_6 += [\"None\"]\n",
    "        \n",
    "low_elevation_page_7 = []\n",
    "for i in range(0,200):\n",
    "    try:\n",
    "        low_elevation_page_7 += [page7.select(\"table.info-table\")[i].select(\"span\")[2].string]\n",
    "    except IndexError:\n",
    "        low_elevation_page_7 += [\"None\"]\n",
    "        \n",
    "low_elevation_page_8 = []\n",
    "for i in range(0,200):\n",
    "    try:\n",
    "        low_elevation_page_8 += [page8.select(\"table.info-table\")[i].select(\"span\")[2].string]\n",
    "    except IndexError:\n",
    "        low_elevation_page_8 += [\"None\"]\n",
    "        \n",
    "low_elevation_page_9 = []\n",
    "for i in range(0,200):\n",
    "    try:\n",
    "        low_elevation_page_9 += [page9.select(\"table.info-table\")[i].select(\"span\")[2].string]\n",
    "    except IndexError:\n",
    "        low_elevation_page_9 += [\"None\"]\n",
    "        \n",
    "low_elevation_page_10 = []\n",
    "for i in range(0,200):\n",
    "    try:\n",
    "        low_elevation_page_10 += [page10.select(\"table.info-table\")[i].select(\"span\")[2].string]\n",
    "    except IndexError:\n",
    "        low_elevation_page_10 += [\"None\"]\n",
    "        \n",
    "low_elevation_page_11 = []\n",
    "for i in range(0,200):\n",
    "    try:\n",
    "        low_elevation_page_11 += [page11.select(\"table.info-table\")[i].select(\"span\")[2].string]\n",
    "    except IndexError:\n",
    "        low_elevation_page_11 += [\"None\"]\n",
    "        \n",
    "low_elevation_page_12 = []\n",
    "for i in range(0,200):\n",
    "    try:\n",
    "        low_elevation_page_12 += [page12.select(\"table.info-table\")[i].select(\"span\")[2].string]\n",
    "    except IndexError:\n",
    "        low_elevation_page_12 += [\"None\"]\n",
    "        \n",
    "low_elevation_page_13 = []\n",
    "for i in range(0,200):\n",
    "    try:\n",
    "        low_elevation_page_13 += [page13.select(\"table.info-table\")[i].select(\"span\")[2].string]\n",
    "    except IndexError:\n",
    "        low_elevation_page_13 += [\"None\"]"
   ]
  },
  {
   "cell_type": "code",
   "execution_count": 41,
   "metadata": {},
   "outputs": [],
   "source": [
    "actual_low_elevation = low_elevation_page_1+low_elevation_page_2+low_elevation_page_3+low_elevation_page_4+low_elevation_page_5+low_elevation_page_6+low_elevation_page_7+low_elevation_page_8+low_elevation_page_9+low_elevation_page_10+low_elevation_page_11+low_elevation_page_12+low_elevation_page_13"
   ]
  },
  {
   "cell_type": "code",
   "execution_count": 42,
   "metadata": {},
   "outputs": [
    {
     "data": {
      "text/plain": [
       "2450"
      ]
     },
     "execution_count": 42,
     "metadata": {},
     "output_type": "execute_result"
    }
   ],
   "source": [
    "len(actual_low_elevation)"
   ]
  },
  {
   "cell_type": "markdown",
   "metadata": {},
   "source": [
    "## Getting high elevation"
   ]
  },
  {
   "cell_type": "code",
   "execution_count": 43,
   "metadata": {},
   "outputs": [],
   "source": [
    "high_elevation_page_1 = []\n",
    "for i in range(0,50):\n",
    "    try:\n",
    "        high_elevation_page_1 += [page.select(\"table.info-table\")[i].select(\"span\")[3].string]\n",
    "    except IndexError:\n",
    "        high_elevation_page_1 += [\"None\"]\n",
    "        \n",
    "high_elevation_page_2 = []\n",
    "for i in range(0,200):\n",
    "    try:\n",
    "        high_elevation_page_2 += [page2.select(\"table.info-table\")[i].select(\"span\")[3].string]\n",
    "    except IndexError:\n",
    "        high_elevation_page_2 += [\"None\"]\n",
    "    \n",
    "high_elevation_page_3 = []\n",
    "for i in range(0,200):\n",
    "    try:\n",
    "        high_elevation_page_3 += [page3.select(\"table.info-table\")[i].select(\"span\")[3].string]\n",
    "    except IndexError:\n",
    "        high_elevation_page_3 += [\"None\"]\n",
    "\n",
    "high_elevation_page_4 = []\n",
    "for i in range(0,200):\n",
    "    try:\n",
    "        high_elevation_page_4 += [page4.select(\"table.info-table\")[i].select(\"span\")[3].string]\n",
    "    except IndexError:\n",
    "        high_elevation_page_4 += [\"None\"]\n",
    "        \n",
    "high_elevation_page_5 = []\n",
    "for i in range(0,200):\n",
    "    try:\n",
    "        high_elevation_page_5 += [page5.select(\"table.info-table\")[i].select(\"span\")[3].string]\n",
    "    except IndexError:\n",
    "        high_elevation_page_5 += [\"None\"]\n",
    "        \n",
    "high_elevation_page_6 = []\n",
    "for i in range(0,200):\n",
    "    try:\n",
    "        high_elevation_page_6 += [page6.select(\"table.info-table\")[i].select(\"span\")[3].string]\n",
    "    except IndexError:\n",
    "        high_elevation_page_6 += [\"None\"]\n",
    "        \n",
    "high_elevation_page_7 = []\n",
    "for i in range(0,200):\n",
    "    try:\n",
    "        high_elevation_page_7 += [page7.select(\"table.info-table\")[i].select(\"span\")[3].string]\n",
    "    except IndexError:\n",
    "        high_elevation_page_7 += [\"None\"]\n",
    "        \n",
    "high_elevation_page_8 = []\n",
    "for i in range(0,200):\n",
    "    try:\n",
    "        high_elevation_page_8 += [page8.select(\"table.info-table\")[i].select(\"span\")[3].string]\n",
    "    except IndexError:\n",
    "        high_elevation_page_8 += [\"None\"]\n",
    "        \n",
    "high_elevation_page_9 = []\n",
    "for i in range(0,200):\n",
    "    try:\n",
    "        high_elevation_page_9 += [page9.select(\"table.info-table\")[i].select(\"span\")[3].string]\n",
    "    except IndexError:\n",
    "        high_elevation_page_9 += [\"None\"]\n",
    "        \n",
    "high_elevation_page_10 = []\n",
    "for i in range(0,200):\n",
    "    try:\n",
    "        high_elevation_page_10 += [page10.select(\"table.info-table\")[i].select(\"span\")[3].string]\n",
    "    except IndexError:\n",
    "        high_elevation_page_10 += [\"None\"]\n",
    "        \n",
    "high_elevation_page_11 = []\n",
    "for i in range(0,200):\n",
    "    try:\n",
    "        high_elevation_page_11 += [page11.select(\"table.info-table\")[i].select(\"span\")[3].string]\n",
    "    except IndexError:\n",
    "        high_elevation_page_11 += [\"None\"]\n",
    "        \n",
    "high_elevation_page_12 = []\n",
    "for i in range(0,200):\n",
    "    try:\n",
    "        high_elevation_page_12 += [page12.select(\"table.info-table\")[i].select(\"span\")[3].string]\n",
    "    except IndexError:\n",
    "        high_elevation_page_12 += [\"None\"]\n",
    "        \n",
    "high_elevation_page_13 = []\n",
    "for i in range(0,200):\n",
    "    try:\n",
    "        high_elevation_page_13 += [page13.select(\"table.info-table\")[i].select(\"span\")[3].string]\n",
    "    except IndexError:\n",
    "        high_elevation_page_13 += [\"None\"]"
   ]
  },
  {
   "cell_type": "code",
   "execution_count": 44,
   "metadata": {},
   "outputs": [],
   "source": [
    "actual_high_elevation = high_elevation_page_1+high_elevation_page_2+high_elevation_page_3+high_elevation_page_4+high_elevation_page_5+high_elevation_page_6+high_elevation_page_7+high_elevation_page_8+high_elevation_page_9+high_elevation_page_10+high_elevation_page_11+high_elevation_page_12+high_elevation_page_13"
   ]
  },
  {
   "cell_type": "code",
   "execution_count": 45,
   "metadata": {},
   "outputs": [
    {
     "data": {
      "text/plain": [
       "2450"
      ]
     },
     "execution_count": 45,
     "metadata": {},
     "output_type": "execute_result"
    }
   ],
   "source": [
    "len(actual_high_elevation)"
   ]
  },
  {
   "cell_type": "markdown",
   "metadata": {},
   "source": [
    "## Getting blue_length"
   ]
  },
  {
   "cell_type": "code",
   "execution_count": 46,
   "metadata": {},
   "outputs": [],
   "source": [
    "import re"
   ]
  },
  {
   "cell_type": "code",
   "execution_count": 47,
   "metadata": {},
   "outputs": [],
   "source": [
    "blue_len = [page.select(\"table.info-table\")[i].find_all(\"span\",class_ = re.compile(\"blue\"))[0].string for i in range(0,50)]"
   ]
  },
  {
   "cell_type": "code",
   "execution_count": 48,
   "metadata": {
    "scrolled": true
   },
   "outputs": [
    {
     "data": {
      "text/plain": [
       "'15 km'"
      ]
     },
     "execution_count": 48,
     "metadata": {},
     "output_type": "execute_result"
    }
   ],
   "source": [
    "blue_len[48]"
   ]
  },
  {
   "cell_type": "code",
   "execution_count": 49,
   "metadata": {},
   "outputs": [],
   "source": [
    "actual_blue_2 = []\n",
    "for i in range(0,200):\n",
    "    try:\n",
    "        actual_blue_2 += [page2.select(\"table.info-table\")[i].find_all(\"span\",class_ = re.compile(\"blue\"))[0].string]\n",
    "    except IndexError:\n",
    "        actual_blue_2 += [\"None\"]"
   ]
  },
  {
   "cell_type": "code",
   "execution_count": 50,
   "metadata": {},
   "outputs": [],
   "source": [
    "actual_blue_3 = []\n",
    "for i in range(0,200):\n",
    "    try:\n",
    "        actual_blue_3 += [page3.select(\"table.info-table\")[i].find_all(\"span\",class_ = re.compile(\"blue\"))[0].string]\n",
    "    except IndexError:\n",
    "        actual_blue_3 += [\"None\"]"
   ]
  },
  {
   "cell_type": "code",
   "execution_count": 51,
   "metadata": {},
   "outputs": [],
   "source": [
    "actual_blue_4 = []\n",
    "for i in range(0,200):\n",
    "    try:\n",
    "        actual_blue_4 += [page4.select(\"table.info-table\")[i].find_all(\"span\",class_ = re.compile(\"blue\"))[0].string]\n",
    "    except IndexError:\n",
    "        actual_blue_4 += [\"None\"]"
   ]
  },
  {
   "cell_type": "code",
   "execution_count": 52,
   "metadata": {},
   "outputs": [],
   "source": [
    "actual_blue_5 = []\n",
    "for i in range(0,200):\n",
    "    try:\n",
    "        actual_blue_5 += [page5.select(\"table.info-table\")[i].find_all(\"span\",class_ = re.compile(\"blue\"))[0].string]\n",
    "    except IndexError:\n",
    "        actual_blue_5 += [\"None\"]"
   ]
  },
  {
   "cell_type": "code",
   "execution_count": 53,
   "metadata": {},
   "outputs": [],
   "source": [
    "actual_blue_6 = []\n",
    "for i in range(0,200):\n",
    "    try:\n",
    "        actual_blue_6 += [page6.select(\"table.info-table\")[i].find_all(\"span\",class_ = re.compile(\"blue\"))[0].string]\n",
    "    except IndexError:\n",
    "        actual_blue_6 += [\"None\"]"
   ]
  },
  {
   "cell_type": "code",
   "execution_count": 54,
   "metadata": {},
   "outputs": [],
   "source": [
    "actual_blue_7 = []\n",
    "for i in range(0,200):\n",
    "    try:\n",
    "        actual_blue_7 += [page7.select(\"table.info-table\")[i].find_all(\"span\",class_ = re.compile(\"blue\"))[0].string]\n",
    "    except IndexError:\n",
    "        actual_blue_7 += [\"None\"]"
   ]
  },
  {
   "cell_type": "code",
   "execution_count": 55,
   "metadata": {},
   "outputs": [],
   "source": [
    "actual_blue_8 = []\n",
    "for i in range(0,200):\n",
    "    try:\n",
    "        actual_blue_8 += [page8.select(\"table.info-table\")[i].find_all(\"span\",class_ = re.compile(\"blue\"))[0].string]\n",
    "    except IndexError:\n",
    "        actual_blue_8 += [\"None\"]"
   ]
  },
  {
   "cell_type": "code",
   "execution_count": 56,
   "metadata": {},
   "outputs": [],
   "source": [
    "actual_blue_9 = []\n",
    "for i in range(0,200):\n",
    "    try:\n",
    "        actual_blue_9 += [page9.select(\"table.info-table\")[i].find_all(\"span\",class_ = re.compile(\"blue\"))[0].string]\n",
    "    except IndexError:\n",
    "        actual_blue_9 += [\"None\"]"
   ]
  },
  {
   "cell_type": "code",
   "execution_count": 57,
   "metadata": {},
   "outputs": [],
   "source": [
    "actual_blue_10 = []\n",
    "for i in range(0,200):\n",
    "    try:\n",
    "        actual_blue_10 += [page10.select(\"table.info-table\")[i].find_all(\"span\",class_ = re.compile(\"blue\"))[0].string]\n",
    "    except IndexError:\n",
    "        actual_blue_10 += [\"None\"]"
   ]
  },
  {
   "cell_type": "code",
   "execution_count": 58,
   "metadata": {},
   "outputs": [],
   "source": [
    "actual_blue_11 = []\n",
    "for i in range(0,200):\n",
    "    try:\n",
    "        actual_blue_11 += [page11.select(\"table.info-table\")[i].find_all(\"span\",class_ = re.compile(\"blue\"))[0].string]\n",
    "    except IndexError:\n",
    "        actual_blue_11 += [\"None\"]"
   ]
  },
  {
   "cell_type": "code",
   "execution_count": 59,
   "metadata": {},
   "outputs": [],
   "source": [
    "actual_blue_12 = []\n",
    "for i in range(0,200):\n",
    "    try:\n",
    "        actual_blue_12 += [page12.select(\"table.info-table\")[i].find_all(\"span\",class_ = re.compile(\"blue\"))[0].string]\n",
    "    except IndexError:\n",
    "        actual_blue_12 += [\"None\"]"
   ]
  },
  {
   "cell_type": "code",
   "execution_count": 60,
   "metadata": {},
   "outputs": [],
   "source": [
    "actual_blue_13 = []\n",
    "for i in range(0,200):\n",
    "    try:\n",
    "        actual_blue_13 += [page13.select(\"table.info-table\")[i].find_all(\"span\",class_ = re.compile(\"blue\"))[0].string]\n",
    "    except IndexError:\n",
    "        actual_blue_13 += [\"None\"]"
   ]
  },
  {
   "cell_type": "code",
   "execution_count": 61,
   "metadata": {},
   "outputs": [
    {
     "data": {
      "text/plain": [
       "['130 km',\n",
       " '47 km',\n",
       " '69.5 km',\n",
       " '46.4 km',\n",
       " '170 km',\n",
       " '312 km',\n",
       " '44 km',\n",
       " '42 km',\n",
       " '52 km',\n",
       " '52 km',\n",
       " '34 km',\n",
       " '50 km',\n",
       " '30.8 km',\n",
       " '30 km',\n",
       " '46 km',\n",
       " '100 km',\n",
       " '139 km',\n",
       " '137.5 km',\n",
       " '75 km',\n",
       " '88 km',\n",
       " '42 km',\n",
       " '18 km',\n",
       " '107 km',\n",
       " '60.2 km',\n",
       " '15 km',\n",
       " '70 km',\n",
       " '110 km',\n",
       " '30 km',\n",
       " '310 km',\n",
       " '10 km',\n",
       " '27 km',\n",
       " '20.5 km',\n",
       " '7.3 km',\n",
       " '24 km',\n",
       " '96 km',\n",
       " '17.3 km',\n",
       " '80 km',\n",
       " '33 km',\n",
       " '70 km',\n",
       " '27.8 km',\n",
       " '98 km',\n",
       " '135 km',\n",
       " '30 km',\n",
       " '23.6 km',\n",
       " '23.5 km',\n",
       " '33 km',\n",
       " '11 km',\n",
       " '25.5 km',\n",
       " '132 km',\n",
       " '17.5 km',\n",
       " '104 km',\n",
       " '25 km',\n",
       " '13 km',\n",
       " '9.2 km',\n",
       " '45 km',\n",
       " '23 km',\n",
       " '12.9 km',\n",
       " '40.4 km',\n",
       " '29.2 km',\n",
       " '15 km',\n",
       " '6 km',\n",
       " '47 km',\n",
       " '28 km',\n",
       " '10 km',\n",
       " '30 km',\n",
       " '14 km',\n",
       " '64.3 km',\n",
       " '20 km',\n",
       " '23.5 km',\n",
       " '36.4 km',\n",
       " '19.2 km',\n",
       " '19.5 km',\n",
       " '33 km',\n",
       " '45 km',\n",
       " '53 km',\n",
       " '21.5 km',\n",
       " '12 km',\n",
       " '9.3 km',\n",
       " '9.1 km',\n",
       " '13 km',\n",
       " '21 km',\n",
       " '68 km',\n",
       " '60 km',\n",
       " '23 km',\n",
       " '17 km',\n",
       " '3 km',\n",
       " '115 km',\n",
       " '76 km',\n",
       " '20 km',\n",
       " '18 km',\n",
       " '12.5 km',\n",
       " '4 km',\n",
       " '18.1 km',\n",
       " '10 km',\n",
       " '73 km',\n",
       " '75 km',\n",
       " '56 km',\n",
       " '4.8 km',\n",
       " '60 km',\n",
       " '11 km',\n",
       " '20 km',\n",
       " '18 km',\n",
       " '23 km',\n",
       " '20 km',\n",
       " '46 km',\n",
       " '50 km',\n",
       " '40 km',\n",
       " '67 km',\n",
       " '13 km',\n",
       " '7 km',\n",
       " '12 km',\n",
       " '6 km',\n",
       " '5 km',\n",
       " '19 km',\n",
       " '10 km',\n",
       " '22 km',\n",
       " '21 km',\n",
       " '6.3 km',\n",
       " '19 km',\n",
       " '26.5 km',\n",
       " '50 km',\n",
       " '19.1 km',\n",
       " '8 km',\n",
       " '12 km',\n",
       " '20.8 km',\n",
       " '26 km',\n",
       " '17 km',\n",
       " '55 km',\n",
       " '13 km',\n",
       " '10 km',\n",
       " '15 km',\n",
       " '5 km',\n",
       " '10 km',\n",
       " '14.8 km',\n",
       " '5.2 km',\n",
       " '58 km',\n",
       " '20 km',\n",
       " '31 km',\n",
       " '8 km',\n",
       " '6.3 km',\n",
       " '75 km',\n",
       " '5 km',\n",
       " '25 km',\n",
       " '13 km',\n",
       " '12 km',\n",
       " '10 km',\n",
       " '11 km',\n",
       " '24.5 km',\n",
       " '55 km',\n",
       " '8 km',\n",
       " '9 km',\n",
       " '20 km',\n",
       " '7.9 km',\n",
       " '54 km',\n",
       " '45 km',\n",
       " '55 km',\n",
       " '30 km',\n",
       " '37 km',\n",
       " '6 km',\n",
       " '32 km',\n",
       " '60 km',\n",
       " '5 km',\n",
       " '11.4 km',\n",
       " '6 km',\n",
       " '5 km',\n",
       " '8 km',\n",
       " '62 km',\n",
       " '22.4 km',\n",
       " '0 km',\n",
       " '0 km',\n",
       " '37 km',\n",
       " '42.7 km',\n",
       " '6 km',\n",
       " '12 km',\n",
       " '5 km',\n",
       " '11 km',\n",
       " '12 km',\n",
       " '6 km',\n",
       " '5.9 km',\n",
       " '13 km',\n",
       " '9 km',\n",
       " '7 km',\n",
       " '3.5 km',\n",
       " '22 km',\n",
       " '60 km',\n",
       " '40 km',\n",
       " '49 km',\n",
       " '40 km',\n",
       " '43 km',\n",
       " '28 km',\n",
       " '6 km',\n",
       " '5.4 km',\n",
       " '13 km',\n",
       " '14 km',\n",
       " '4 km',\n",
       " '8.5 km',\n",
       " '35.2 km',\n",
       " '20 km',\n",
       " '28 km',\n",
       " '19.5 km']"
      ]
     },
     "execution_count": 61,
     "metadata": {},
     "output_type": "execute_result"
    }
   ],
   "source": [
    "actual_blue_2"
   ]
  },
  {
   "cell_type": "code",
   "execution_count": 62,
   "metadata": {},
   "outputs": [],
   "source": [
    "actual_blue_length = blue_len+actual_blue_2+actual_blue_3+actual_blue_4+actual_blue_5+actual_blue_6+actual_blue_7+actual_blue_8+actual_blue_9+actual_blue_10+actual_blue_11+actual_blue_12+actual_blue_13"
   ]
  },
  {
   "cell_type": "code",
   "execution_count": 133,
   "metadata": {},
   "outputs": [
    {
     "data": {
      "text/plain": [
       "2450"
      ]
     },
     "execution_count": 133,
     "metadata": {},
     "output_type": "execute_result"
    }
   ],
   "source": [
    "len(actual_blue_length)"
   ]
  },
  {
   "cell_type": "markdown",
   "metadata": {},
   "source": [
    "## Getting red_length"
   ]
  },
  {
   "cell_type": "code",
   "execution_count": 65,
   "metadata": {},
   "outputs": [],
   "source": [
    "actual_red_13 = []\n",
    "for i in range(0,200):\n",
    "    try:\n",
    "        actual_red_13 += [page13.select(\"table.info-table\")[i].find_all(\"span\",class_ = re.compile(\"red\"))[0].string]\n",
    "    except IndexError:\n",
    "        actual_red_13 += [\"None\"]"
   ]
  },
  {
   "cell_type": "code",
   "execution_count": 66,
   "metadata": {},
   "outputs": [],
   "source": [
    "actual_red_12 = []\n",
    "for i in range(0,200):\n",
    "    try:\n",
    "        actual_red_12 += [page12.select(\"table.info-table\")[i].find_all(\"span\",class_ = re.compile(\"red\"))[0].string]\n",
    "    except IndexError:\n",
    "        actual_red_12 += [\"None\"]"
   ]
  },
  {
   "cell_type": "code",
   "execution_count": 67,
   "metadata": {},
   "outputs": [],
   "source": [
    "actual_red_11 = []\n",
    "for i in range(0,200):\n",
    "    try:\n",
    "        actual_red_11 += [page11.select(\"table.info-table\")[i].find_all(\"span\",class_ = re.compile(\"red\"))[0].string]\n",
    "    except IndexError:\n",
    "        actual_red_11 += [\"None\"]"
   ]
  },
  {
   "cell_type": "code",
   "execution_count": 68,
   "metadata": {},
   "outputs": [],
   "source": [
    "actual_red_10 = []\n",
    "for i in range(0,200):\n",
    "    try:\n",
    "        actual_red_10 += [page10.select(\"table.info-table\")[i].find_all(\"span\",class_ = re.compile(\"red\"))[0].string]\n",
    "    except IndexError:\n",
    "        actual_red_10 += [\"None\"]"
   ]
  },
  {
   "cell_type": "code",
   "execution_count": 69,
   "metadata": {},
   "outputs": [],
   "source": [
    "actual_red_9 = []\n",
    "for i in range(0,200):\n",
    "    try:\n",
    "        actual_red_9 += [page9.select(\"table.info-table\")[i].find_all(\"span\",class_ = re.compile(\"red\"))[0].string]\n",
    "    except IndexError:\n",
    "        actual_red_9 += [\"None\"]"
   ]
  },
  {
   "cell_type": "code",
   "execution_count": 70,
   "metadata": {},
   "outputs": [],
   "source": [
    "actual_red_8 = []\n",
    "for i in range(0,200):\n",
    "    try:\n",
    "        actual_red_8 += [page8.select(\"table.info-table\")[i].find_all(\"span\",class_ = re.compile(\"red\"))[0].string]\n",
    "    except IndexError:\n",
    "        actual_red_8 += [\"None\"]"
   ]
  },
  {
   "cell_type": "code",
   "execution_count": 71,
   "metadata": {},
   "outputs": [],
   "source": [
    "actual_red_7 = []\n",
    "for i in range(0,200):\n",
    "    try:\n",
    "        actual_red_7 += [page7.select(\"table.info-table\")[i].find_all(\"span\",class_ = re.compile(\"red\"))[0].string]\n",
    "    except IndexError:\n",
    "        actual_red_7 += [\"None\"]"
   ]
  },
  {
   "cell_type": "code",
   "execution_count": 72,
   "metadata": {},
   "outputs": [],
   "source": [
    "actual_red_6 = []\n",
    "for i in range(0,200):\n",
    "    try:\n",
    "        actual_red_6 += [page6.select(\"table.info-table\")[i].find_all(\"span\",class_ = re.compile(\"red\"))[0].string]\n",
    "    except IndexError:\n",
    "        actual_red_6 += [\"None\"]"
   ]
  },
  {
   "cell_type": "code",
   "execution_count": 73,
   "metadata": {},
   "outputs": [],
   "source": [
    "actual_red_5 = []\n",
    "for i in range(0,200):\n",
    "    try:\n",
    "        actual_red_5 += [page5.select(\"table.info-table\")[i].find_all(\"span\",class_ = re.compile(\"red\"))[0].string]\n",
    "    except IndexError:\n",
    "        actual_red_5 += [\"None\"]"
   ]
  },
  {
   "cell_type": "code",
   "execution_count": 74,
   "metadata": {},
   "outputs": [],
   "source": [
    "actual_red_4 = []\n",
    "for i in range(0,200):\n",
    "    try:\n",
    "        actual_red_4 += [page4.select(\"table.info-table\")[i].find_all(\"span\",class_ = re.compile(\"red\"))[0].string]\n",
    "    except IndexError:\n",
    "        actual_red_4 += [\"None\"]"
   ]
  },
  {
   "cell_type": "code",
   "execution_count": 75,
   "metadata": {},
   "outputs": [],
   "source": [
    "actual_red_3 = []\n",
    "for i in range(0,200):\n",
    "    try:\n",
    "        actual_red_3 += [page3.select(\"table.info-table\")[i].find_all(\"span\",class_ = re.compile(\"red\"))[0].string]\n",
    "    except IndexError:\n",
    "        actual_red_3 += [\"None\"]"
   ]
  },
  {
   "cell_type": "code",
   "execution_count": 76,
   "metadata": {},
   "outputs": [],
   "source": [
    "actual_red_2 = []\n",
    "for i in range(0,200):\n",
    "    try:\n",
    "        actual_red_2 += [page2.select(\"table.info-table\")[i].find_all(\"span\",class_ = re.compile(\"red\"))[0].string]\n",
    "    except IndexError:\n",
    "        actual_red_2 += [\"None\"]"
   ]
  },
  {
   "cell_type": "code",
   "execution_count": 77,
   "metadata": {},
   "outputs": [],
   "source": [
    "actual_red_1 = []\n",
    "for i in range(0,50):\n",
    "    try:\n",
    "        actual_red_1 += [page.select(\"table.info-table\")[i].find_all(\"span\",class_ = re.compile(\"red\"))[0].string]\n",
    "    except IndexError:\n",
    "        actual_red_1 += [\"None\"]"
   ]
  },
  {
   "cell_type": "code",
   "execution_count": 78,
   "metadata": {},
   "outputs": [],
   "source": [
    "actual_red_length = actual_red_1+actual_red_2+actual_red_3+actual_red_4+actual_red_5+actual_red_6+actual_red_7+actual_red_8+actual_red_9+actual_red_10+actual_red_11+actual_red_12+actual_red_13"
   ]
  },
  {
   "cell_type": "code",
   "execution_count": 132,
   "metadata": {},
   "outputs": [
    {
     "data": {
      "text/plain": [
       "2450"
      ]
     },
     "execution_count": 132,
     "metadata": {},
     "output_type": "execute_result"
    }
   ],
   "source": [
    "len(actual_red_length)"
   ]
  },
  {
   "cell_type": "markdown",
   "metadata": {},
   "source": [
    "## Getting ski_lifts"
   ]
  },
  {
   "cell_type": "code",
   "execution_count": 80,
   "metadata": {},
   "outputs": [
    {
     "data": {
      "text/plain": [
       "'41 ski lifts'"
      ]
     },
     "execution_count": 80,
     "metadata": {},
     "output_type": "execute_result"
    }
   ],
   "source": [
    "page.select(\"table.info-table\")[0].select(\"ul.inline-dot li\")[0].string\n",
    "\n",
    "#.find_all(\"li\",string = re.compile(\"ski lifts\"))"
   ]
  },
  {
   "cell_type": "code",
   "execution_count": 81,
   "metadata": {},
   "outputs": [],
   "source": [
    "ski_lifts1 = [page.select(\"table.info-table\")[i].select(\"ul.inline-dot li\")[0].string for i in range(0,50)]"
   ]
  },
  {
   "cell_type": "code",
   "execution_count": 82,
   "metadata": {},
   "outputs": [],
   "source": [
    "ski_lifts2 = []\n",
    "for i in range(0,200):\n",
    "    try:\n",
    "        ski_lifts2 += [page2.select(\"table.info-table\")[i].select(\"ul.inline-dot li\")[0].string]\n",
    "    except IndexError:\n",
    "        ski_lifts2 += [\"None\"]"
   ]
  },
  {
   "cell_type": "code",
   "execution_count": 83,
   "metadata": {},
   "outputs": [],
   "source": [
    "ski_lifts3 = []\n",
    "for i in range(0,200):\n",
    "    try:\n",
    "        ski_lifts3 += [page3.select(\"table.info-table\")[i].select(\"ul.inline-dot li\")[0].string]\n",
    "    except IndexError:\n",
    "        ski_lifts3 += [\"None\"]"
   ]
  },
  {
   "cell_type": "code",
   "execution_count": 84,
   "metadata": {},
   "outputs": [],
   "source": [
    "ski_lifts4 = []\n",
    "for i in range(0,200):\n",
    "    try:\n",
    "        ski_lifts4 += [page4.select(\"table.info-table\")[i].select(\"ul.inline-dot li\")[0].string]\n",
    "    except IndexError:\n",
    "        ski_lifts4 += [\"None\"]"
   ]
  },
  {
   "cell_type": "code",
   "execution_count": 85,
   "metadata": {},
   "outputs": [],
   "source": [
    "ski_lifts5 = []\n",
    "for i in range(0,200):\n",
    "    try:\n",
    "        ski_lifts5 += [page5.select(\"table.info-table\")[i].select(\"ul.inline-dot li\")[0].string]\n",
    "    except IndexError:\n",
    "        ski_lifts5 += [\"None\"]"
   ]
  },
  {
   "cell_type": "code",
   "execution_count": 86,
   "metadata": {},
   "outputs": [],
   "source": [
    "ski_lifts6 = []\n",
    "for i in range(0,200):\n",
    "    try:\n",
    "        ski_lifts6 += [page6.select(\"table.info-table\")[i].select(\"ul.inline-dot li\")[0].string]\n",
    "    except IndexError:\n",
    "        ski_lifts6 += [\"None\"]"
   ]
  },
  {
   "cell_type": "code",
   "execution_count": 87,
   "metadata": {},
   "outputs": [],
   "source": [
    "ski_lifts7 = []\n",
    "for i in range(0,200):\n",
    "    try:\n",
    "        ski_lifts7 += [page7.select(\"table.info-table\")[i].select(\"ul.inline-dot li\")[0].string]\n",
    "    except IndexError:\n",
    "        ski_lifts7 += [\"None\"]"
   ]
  },
  {
   "cell_type": "code",
   "execution_count": 88,
   "metadata": {},
   "outputs": [],
   "source": [
    "ski_lifts8 = []\n",
    "for i in range(0,200):\n",
    "    try:\n",
    "        ski_lifts8 += [page8.select(\"table.info-table\")[i].select(\"ul.inline-dot li\")[0].string]\n",
    "    except IndexError:\n",
    "        ski_lifts8 += [\"None\"]"
   ]
  },
  {
   "cell_type": "code",
   "execution_count": 89,
   "metadata": {},
   "outputs": [],
   "source": [
    "ski_lifts9 = []\n",
    "for i in range(0,200):\n",
    "    try:\n",
    "        ski_lifts9 += [page9.select(\"table.info-table\")[i].select(\"ul.inline-dot li\")[0].string]\n",
    "    except IndexError:\n",
    "        ski_lifts9 += [\"None\"]"
   ]
  },
  {
   "cell_type": "code",
   "execution_count": 90,
   "metadata": {},
   "outputs": [],
   "source": [
    "ski_lifts10 = []\n",
    "for i in range(0,200):\n",
    "    try:\n",
    "        ski_lifts10 += [page10.select(\"table.info-table\")[i].select(\"ul.inline-dot li\")[0].string]\n",
    "    except IndexError:\n",
    "        ski_lifts10 += [\"None\"]"
   ]
  },
  {
   "cell_type": "code",
   "execution_count": 91,
   "metadata": {},
   "outputs": [],
   "source": [
    "ski_lifts11 = []\n",
    "for i in range(0,200):\n",
    "    try:\n",
    "        ski_lifts11 += [page11.select(\"table.info-table\")[i].select(\"ul.inline-dot li\")[0].string]\n",
    "    except IndexError:\n",
    "        ski_lifts11 += [\"None\"]"
   ]
  },
  {
   "cell_type": "code",
   "execution_count": 92,
   "metadata": {},
   "outputs": [],
   "source": [
    "ski_lifts12 = []\n",
    "for i in range(0,200):\n",
    "    try:\n",
    "        ski_lifts12 += [page12.select(\"table.info-table\")[i].select(\"ul.inline-dot li\")[0].string]\n",
    "    except IndexError:\n",
    "        ski_lifts12 += [\"None\"]"
   ]
  },
  {
   "cell_type": "code",
   "execution_count": 93,
   "metadata": {},
   "outputs": [],
   "source": [
    "ski_lifts13 = []\n",
    "for i in range(0,200):\n",
    "    try:\n",
    "        ski_lifts13 += [page13.select(\"table.info-table\")[i].select(\"ul.inline-dot li\")[0].string]\n",
    "    except IndexError:\n",
    "        ski_lifts13 += [\"None\"]"
   ]
  },
  {
   "cell_type": "code",
   "execution_count": 94,
   "metadata": {},
   "outputs": [],
   "source": [
    "actual_ski_lifts = ski_lifts1+ski_lifts2+ski_lifts3+ski_lifts4+ski_lifts5+ski_lifts6+ski_lifts7+ski_lifts8+ski_lifts9+ski_lifts10+ski_lifts11+ski_lifts12+ski_lifts13"
   ]
  },
  {
   "cell_type": "code",
   "execution_count": 95,
   "metadata": {},
   "outputs": [
    {
     "data": {
      "text/plain": [
       "2450"
      ]
     },
     "execution_count": 95,
     "metadata": {},
     "output_type": "execute_result"
    }
   ],
   "source": [
    "len(actual_ski_lifts)"
   ]
  },
  {
   "cell_type": "code",
   "execution_count": 96,
   "metadata": {},
   "outputs": [
    {
     "data": {
      "text/plain": [
       "'2 ski lifts'"
      ]
     },
     "execution_count": 96,
     "metadata": {},
     "output_type": "execute_result"
    }
   ],
   "source": [
    "actual_ski_lifts[-4]"
   ]
  },
  {
   "cell_type": "code",
   "execution_count": 97,
   "metadata": {},
   "outputs": [
    {
     "data": {
      "text/plain": [
       "['8 ski lifts',\n",
       " '4 ski lifts',\n",
       " '11 ski lifts',\n",
       " '7 ski lifts',\n",
       " '11 ski lifts',\n",
       " '6 ski lifts',\n",
       " '10 ski lifts',\n",
       " '23 ski lifts',\n",
       " '11 ski lifts',\n",
       " '23 ski lifts',\n",
       " '12 ski lifts',\n",
       " '9 ski lifts',\n",
       " '5 ski lifts',\n",
       " '13 ski lifts',\n",
       " '7 ski lifts',\n",
       " '16 ski lifts',\n",
       " '6 ski lifts',\n",
       " '5 ski lifts',\n",
       " '5 ski lifts',\n",
       " '16 ski lifts',\n",
       " '16 ski lifts',\n",
       " '12 ski lifts',\n",
       " '7 ski lifts',\n",
       " '9 ski lifts',\n",
       " '5 ski lifts',\n",
       " '19 ski lifts',\n",
       " '8 ski lifts',\n",
       " '7 ski lifts',\n",
       " '7 ski lifts',\n",
       " '14 ski lifts',\n",
       " '12 ski lifts',\n",
       " '13 ski lifts',\n",
       " '21 ski lifts',\n",
       " '11 ski lifts',\n",
       " '4 ski lifts',\n",
       " '17 ski lifts',\n",
       " '12 ski lifts',\n",
       " '5 ski lifts',\n",
       " '6 ski lifts',\n",
       " '9 ski lifts',\n",
       " '3 ski lifts',\n",
       " '4 ski lifts',\n",
       " '8 ski lifts',\n",
       " '5 ski lifts',\n",
       " '7 ski lifts',\n",
       " '5 ski lifts',\n",
       " '10 ski lifts',\n",
       " '12 ski lifts',\n",
       " '17 ski lifts',\n",
       " '16 ski lifts',\n",
       " '9 ski lifts',\n",
       " '8 ski lifts',\n",
       " '12 ski lifts',\n",
       " '5 ski lifts',\n",
       " '14 ski lifts',\n",
       " '4 ski lifts',\n",
       " '6 ski lifts',\n",
       " '5 ski lifts',\n",
       " '4 ski lifts',\n",
       " '23 ski lifts',\n",
       " '4 ski lifts',\n",
       " '8 ski lifts',\n",
       " '12 ski lifts',\n",
       " '17 ski lifts',\n",
       " '13 ski lifts',\n",
       " '17 ski lifts',\n",
       " '21 ski lifts',\n",
       " '11 ski lifts',\n",
       " '5 ski lifts',\n",
       " '17 ski lifts',\n",
       " '5 ski lifts',\n",
       " '13 ski lifts',\n",
       " '16 ski lifts',\n",
       " '6 ski lifts',\n",
       " '5 ski lifts',\n",
       " '5 ski lifts',\n",
       " '21 ski lifts',\n",
       " '2 ski lifts',\n",
       " '2 ski lifts',\n",
       " '17 ski lifts',\n",
       " '15 ski lifts',\n",
       " '6 ski lifts',\n",
       " '4 ski lifts',\n",
       " '3 ski lifts',\n",
       " '8 ski lifts',\n",
       " '8 ski lifts',\n",
       " '10 ski lifts',\n",
       " '10 ski lifts',\n",
       " '12 ski lifts',\n",
       " '7 ski lifts',\n",
       " '5 ski lifts',\n",
       " '4 ski lifts',\n",
       " '8 ski lifts',\n",
       " '21 ski lifts',\n",
       " '22 ski lifts',\n",
       " '7 ski lifts',\n",
       " '9 ski lifts',\n",
       " '10 ski lifts',\n",
       " '3 ski lifts',\n",
       " '5 ski lifts',\n",
       " '10 ski lifts',\n",
       " '5 ski lifts',\n",
       " '12 ski lifts',\n",
       " '21 ski lifts',\n",
       " '14 ski lifts',\n",
       " '8 ski lifts',\n",
       " '5 ski lifts',\n",
       " '15 ski lifts',\n",
       " '7 ski lifts',\n",
       " '9 ski lifts',\n",
       " '9 ski lifts',\n",
       " '15 ski lifts',\n",
       " '10 ski lifts',\n",
       " '7 ski lifts',\n",
       " '9 ski lifts',\n",
       " '3 ski lifts',\n",
       " '9 ski lifts',\n",
       " '12 ski lifts',\n",
       " '1 ski lift',\n",
       " '11 ski lifts',\n",
       " '10 ski lifts',\n",
       " '7 ski lifts',\n",
       " '6 ski lifts',\n",
       " '19 ski lifts',\n",
       " '12 ski lifts',\n",
       " '15 ski lifts',\n",
       " '5 ski lifts',\n",
       " '7 ski lifts',\n",
       " '8 ski lifts',\n",
       " '11 ski lifts',\n",
       " '9 ski lifts',\n",
       " '5 ski lifts',\n",
       " '15 ski lifts',\n",
       " '5 ski lifts',\n",
       " '3 ski lifts',\n",
       " '5 ski lifts',\n",
       " '9 ski lifts',\n",
       " '7 ski lifts',\n",
       " '2 ski lifts',\n",
       " '8 ski lifts',\n",
       " '5 ski lifts',\n",
       " '14 ski lifts',\n",
       " '23 ski lifts',\n",
       " '9 ski lifts',\n",
       " '6 ski lifts',\n",
       " '13 ski lifts',\n",
       " '10 ski lifts',\n",
       " '5 ski lifts',\n",
       " '5 ski lifts',\n",
       " '14 ski lifts',\n",
       " '4 ski lifts',\n",
       " '10 ski lifts',\n",
       " '6 ski lifts',\n",
       " '11 ski lifts',\n",
       " '10 ski lifts',\n",
       " '8 ski lifts',\n",
       " '5 ski lifts',\n",
       " '2 ski lifts',\n",
       " '15 ski lifts',\n",
       " '3 ski lifts',\n",
       " '5 ski lifts',\n",
       " '13 ski lifts',\n",
       " '7 ski lifts',\n",
       " '6 ski lifts',\n",
       " '9 ski lifts',\n",
       " '15 ski lifts',\n",
       " '7 ski lifts',\n",
       " '6 ski lifts',\n",
       " '12 ski lifts',\n",
       " '6 ski lifts',\n",
       " '8 ski lifts',\n",
       " '6 ski lifts',\n",
       " '5 ski lifts',\n",
       " '13 ski lifts',\n",
       " '18 ski lifts',\n",
       " '12 ski lifts',\n",
       " '12 ski lifts',\n",
       " '4 ski lifts',\n",
       " '7 ski lifts',\n",
       " '12 ski lifts',\n",
       " '8 ski lifts',\n",
       " '7 ski lifts',\n",
       " '18 ski lifts',\n",
       " '8 ski lifts',\n",
       " '8 ski lifts',\n",
       " '4 ski lifts',\n",
       " '13 ski lifts',\n",
       " '3 ski lifts',\n",
       " '6 ski lifts',\n",
       " '5 ski lifts',\n",
       " '10 ski lifts',\n",
       " '12 ski lifts',\n",
       " '10 ski lifts',\n",
       " '15 ski lifts',\n",
       " '8 ski lifts',\n",
       " '6 ski lifts',\n",
       " '4 ski lifts',\n",
       " '19 ski lifts',\n",
       " '3 ski lifts',\n",
       " '7 ski lifts']"
      ]
     },
     "execution_count": 97,
     "metadata": {},
     "output_type": "execute_result"
    }
   ],
   "source": [
    "ski_lifts3"
   ]
  },
  {
   "cell_type": "markdown",
   "metadata": {},
   "source": [
    "## Getting Price"
   ]
  },
  {
   "cell_type": "code",
   "execution_count": 98,
   "metadata": {},
   "outputs": [],
   "source": [
    "price_1 = [page.select(\"table.info-table\")[i].select(\"td\")[-1].string for i in range(0,50)]"
   ]
  },
  {
   "cell_type": "code",
   "execution_count": 99,
   "metadata": {},
   "outputs": [
    {
     "data": {
      "text/plain": [
       "50"
      ]
     },
     "execution_count": 99,
     "metadata": {},
     "output_type": "execute_result"
    }
   ],
   "source": [
    "len(price_1)"
   ]
  },
  {
   "cell_type": "code",
   "execution_count": 100,
   "metadata": {},
   "outputs": [],
   "source": [
    "price_2 = [page2.select(\"table.info-table\")[i].select(\"td\")[-1].string for i in range(0,200)]"
   ]
  },
  {
   "cell_type": "code",
   "execution_count": 101,
   "metadata": {},
   "outputs": [
    {
     "data": {
      "text/plain": [
       "'€ 37,-'"
      ]
     },
     "execution_count": 101,
     "metadata": {},
     "output_type": "execute_result"
    }
   ],
   "source": [
    "page3.select(\"table.info-table\")[1].select(\"td\")[-1].string"
   ]
  },
  {
   "cell_type": "code",
   "execution_count": 102,
   "metadata": {},
   "outputs": [],
   "source": [
    "price_3 = [page3.select(\"table.info-table\")[i].select(\"td\")[-1].string for i in range(0,200)]"
   ]
  },
  {
   "cell_type": "code",
   "execution_count": 103,
   "metadata": {},
   "outputs": [],
   "source": [
    "price_4 = [page4.select(\"table.info-table\")[i].select(\"td\")[-1].string for i in range(0,200)]"
   ]
  },
  {
   "cell_type": "code",
   "execution_count": 104,
   "metadata": {},
   "outputs": [],
   "source": [
    "price_5 = [page5.select(\"table.info-table\")[i].select(\"td\")[-1].string for i in range(0,200)]"
   ]
  },
  {
   "cell_type": "code",
   "execution_count": 105,
   "metadata": {},
   "outputs": [],
   "source": [
    "price_6 = [page6.select(\"table.info-table\")[i].select(\"td\")[-1].string for i in range(0,200)]"
   ]
  },
  {
   "cell_type": "code",
   "execution_count": 106,
   "metadata": {},
   "outputs": [],
   "source": [
    "price_7 = [page7.select(\"table.info-table\")[i].select(\"td\")[-1].string for i in range(0,200)]"
   ]
  },
  {
   "cell_type": "code",
   "execution_count": 107,
   "metadata": {},
   "outputs": [],
   "source": [
    "price_8 = [page8.select(\"table.info-table\")[i].select(\"td\")[-1].string for i in range(0,200)]"
   ]
  },
  {
   "cell_type": "code",
   "execution_count": 108,
   "metadata": {},
   "outputs": [],
   "source": [
    "price_9 = [page9.select(\"table.info-table\")[i].select(\"td\")[-1].string for i in range(0,200)]"
   ]
  },
  {
   "cell_type": "code",
   "execution_count": 109,
   "metadata": {},
   "outputs": [],
   "source": [
    "price_10 = [page10.select(\"table.info-table\")[i].select(\"td\")[-1].string for i in range(0,200)]"
   ]
  },
  {
   "cell_type": "code",
   "execution_count": 110,
   "metadata": {},
   "outputs": [],
   "source": [
    "price_11 = [page11.select(\"table.info-table\")[i].select(\"td\")[-1].string for i in range(0,200)]"
   ]
  },
  {
   "cell_type": "code",
   "execution_count": 111,
   "metadata": {},
   "outputs": [],
   "source": [
    "price_12 = [page12.select(\"table.info-table\")[i].select(\"td\")[-1].string for i in range(0,200)]"
   ]
  },
  {
   "cell_type": "code",
   "execution_count": 112,
   "metadata": {},
   "outputs": [],
   "source": [
    "price_13 = [page13.select(\"table.info-table\")[i].select(\"td\")[-1].string for i in range(0,200)]"
   ]
  },
  {
   "cell_type": "code",
   "execution_count": 113,
   "metadata": {},
   "outputs": [],
   "source": [
    "actual_price = price_1+price_2+price_3+price_4+price_5+price_6+price_7+price_8+price_9+price_10+price_11+price_12+price_13"
   ]
  },
  {
   "cell_type": "code",
   "execution_count": 131,
   "metadata": {},
   "outputs": [
    {
     "data": {
      "text/plain": [
       "2450"
      ]
     },
     "execution_count": 131,
     "metadata": {},
     "output_type": "execute_result"
    }
   ],
   "source": [
    "len(actual_price)"
   ]
  },
  {
   "cell_type": "markdown",
   "metadata": {},
   "source": [
    "## Getting black_length"
   ]
  },
  {
   "cell_type": "code",
   "execution_count": 115,
   "metadata": {},
   "outputs": [],
   "source": [
    "actual_black_1 = []\n",
    "for i in range(0,50):\n",
    "    try:\n",
    "        actual_black_1 += [page.select(\"table.info-table\")[i].find_all(\"span\",class_ = re.compile(\"black\"))[0].string]\n",
    "    except IndexError:\n",
    "        actual_black_1 += [\"None\"]"
   ]
  },
  {
   "cell_type": "code",
   "execution_count": 116,
   "metadata": {},
   "outputs": [],
   "source": [
    "actual_black_2 = []\n",
    "for i in range(0,200):\n",
    "    try:\n",
    "        actual_black_2 += [page2.select(\"table.info-table\")[i].find_all(\"span\",class_ = re.compile(\"black\"))[0].string]\n",
    "    except IndexError:\n",
    "        actual_black_2 += [\"None\"]"
   ]
  },
  {
   "cell_type": "code",
   "execution_count": 117,
   "metadata": {},
   "outputs": [],
   "source": [
    "actual_black_3 = []\n",
    "for i in range(0,200):\n",
    "    try:\n",
    "        actual_black_3 += [page3.select(\"table.info-table\")[i].find_all(\"span\",class_ = re.compile(\"black\"))[0].string]\n",
    "    except IndexError:\n",
    "        actual_black_3 += [\"None\"]"
   ]
  },
  {
   "cell_type": "code",
   "execution_count": 118,
   "metadata": {},
   "outputs": [],
   "source": [
    "actual_black_4 = []\n",
    "for i in range(0,200):\n",
    "    try:\n",
    "        actual_black_4 += [page4.select(\"table.info-table\")[i].find_all(\"span\",class_ = re.compile(\"black\"))[0].string]\n",
    "    except IndexError:\n",
    "        actual_black_4 += [\"None\"]"
   ]
  },
  {
   "cell_type": "code",
   "execution_count": 119,
   "metadata": {},
   "outputs": [],
   "source": [
    "actual_black_5 = []\n",
    "for i in range(0,200):\n",
    "    try:\n",
    "        actual_black_5 += [page5.select(\"table.info-table\")[i].find_all(\"span\",class_ = re.compile(\"black\"))[0].string]\n",
    "    except IndexError:\n",
    "        actual_black_5 += [\"None\"]"
   ]
  },
  {
   "cell_type": "code",
   "execution_count": 120,
   "metadata": {},
   "outputs": [],
   "source": [
    "actual_black_6 = []\n",
    "for i in range(0,200):\n",
    "    try:\n",
    "        actual_black_6 += [page6.select(\"table.info-table\")[i].find_all(\"span\",class_ = re.compile(\"black\"))[0].string]\n",
    "    except IndexError:\n",
    "        actual_black_6 += [\"None\"]"
   ]
  },
  {
   "cell_type": "code",
   "execution_count": 121,
   "metadata": {},
   "outputs": [],
   "source": [
    "actual_black_7 = []\n",
    "for i in range(0,200):\n",
    "    try:\n",
    "        actual_black_7 += [page7.select(\"table.info-table\")[i].find_all(\"span\",class_ = re.compile(\"black\"))[0].string]\n",
    "    except IndexError:\n",
    "        actual_black_7 += [\"None\"]"
   ]
  },
  {
   "cell_type": "code",
   "execution_count": 122,
   "metadata": {},
   "outputs": [],
   "source": [
    "actual_black_8 = []\n",
    "for i in range(0,200):\n",
    "    try:\n",
    "        actual_black_8 += [page8.select(\"table.info-table\")[i].find_all(\"span\",class_ = re.compile(\"black\"))[0].string]\n",
    "    except IndexError:\n",
    "        actual_black_8 += [\"None\"]"
   ]
  },
  {
   "cell_type": "code",
   "execution_count": 123,
   "metadata": {},
   "outputs": [],
   "source": [
    "actual_black_9 = []\n",
    "for i in range(0,200):\n",
    "    try:\n",
    "        actual_black_9 += [page9.select(\"table.info-table\")[i].find_all(\"span\",class_ = re.compile(\"black\"))[0].string]\n",
    "    except IndexError:\n",
    "        actual_black_9 += [\"None\"]"
   ]
  },
  {
   "cell_type": "code",
   "execution_count": 124,
   "metadata": {},
   "outputs": [],
   "source": [
    "actual_black_10 = []\n",
    "for i in range(0,200):\n",
    "    try:\n",
    "        actual_black_10 += [page10.select(\"table.info-table\")[i].find_all(\"span\",class_ = re.compile(\"black\"))[0].string]\n",
    "    except IndexError:\n",
    "        actual_black_10 += [\"None\"]"
   ]
  },
  {
   "cell_type": "code",
   "execution_count": 125,
   "metadata": {},
   "outputs": [],
   "source": [
    "actual_black_11 = []\n",
    "for i in range(0,200):\n",
    "    try:\n",
    "        actual_black_11 += [page11.select(\"table.info-table\")[i].find_all(\"span\",class_ = re.compile(\"black\"))[0].string]\n",
    "    except IndexError:\n",
    "        actual_black_11 += [\"None\"]"
   ]
  },
  {
   "cell_type": "code",
   "execution_count": 126,
   "metadata": {},
   "outputs": [],
   "source": [
    "actual_black_12 = []\n",
    "for i in range(0,200):\n",
    "    try:\n",
    "        actual_black_12 += [page12.select(\"table.info-table\")[i].find_all(\"span\",class_ = re.compile(\"black\"))[0].string]\n",
    "    except IndexError:\n",
    "        actual_black_12 += [\"None\"]"
   ]
  },
  {
   "cell_type": "code",
   "execution_count": 127,
   "metadata": {},
   "outputs": [],
   "source": [
    "actual_black_13 = []\n",
    "for i in range(0,200):\n",
    "    try:\n",
    "        actual_black_13 += [page13.select(\"table.info-table\")[i].find_all(\"span\",class_ = re.compile(\"black\"))[0].string]\n",
    "    except IndexError:\n",
    "        actual_black_13 += [\"None\"]"
   ]
  },
  {
   "cell_type": "code",
   "execution_count": 128,
   "metadata": {},
   "outputs": [],
   "source": [
    "black_length = actual_black_1+actual_black_2+actual_black_3+actual_black_4+actual_black_5+actual_black_6+actual_black_7+actual_black_8+actual_black_9+actual_black_10+actual_black_11+actual_black_12+actual_black_13"
   ]
  },
  {
   "cell_type": "code",
   "execution_count": 130,
   "metadata": {},
   "outputs": [
    {
     "data": {
      "text/plain": [
       "2450"
      ]
     },
     "execution_count": 130,
     "metadata": {},
     "output_type": "execute_result"
    }
   ],
   "source": [
    "len(black_length)"
   ]
  },
  {
   "cell_type": "code",
   "execution_count": 157,
   "metadata": {},
   "outputs": [],
   "source": [
    "import pandas as pd"
   ]
  },
  {
   "cell_type": "code",
   "execution_count": 158,
   "metadata": {},
   "outputs": [],
   "source": [
    "all_columns = list(zip(names_full, actual_countries, actual_provinces, actual_ratings, actual_elevation, actual_low_elevation, actual_high_elevation, actual_blue_length, actual_red_length, black_length, actual_ski_lifts, actual_price))"
   ]
  },
  {
   "cell_type": "code",
   "execution_count": 159,
   "metadata": {},
   "outputs": [],
   "source": [
    "df = pd.DataFrame(all_columns, \n",
    "               columns =['resort_name', 'country','province','rating','elevation_lenght','lowest_point','highest_point','blue_runs','red_runs','black_runs','ski_lifts','price']) "
   ]
  },
  {
   "cell_type": "code",
   "execution_count": 160,
   "metadata": {},
   "outputs": [
    {
     "data": {
      "text/html": [
       "<div>\n",
       "<style scoped>\n",
       "    .dataframe tbody tr th:only-of-type {\n",
       "        vertical-align: middle;\n",
       "    }\n",
       "\n",
       "    .dataframe tbody tr th {\n",
       "        vertical-align: top;\n",
       "    }\n",
       "\n",
       "    .dataframe thead th {\n",
       "        text-align: right;\n",
       "    }\n",
       "</style>\n",
       "<table border=\"1\" class=\"dataframe\">\n",
       "  <thead>\n",
       "    <tr style=\"text-align: right;\">\n",
       "      <th></th>\n",
       "      <th>resort_name</th>\n",
       "      <th>country</th>\n",
       "      <th>province</th>\n",
       "      <th>rating</th>\n",
       "      <th>elevation_lenght</th>\n",
       "      <th>lowest_point</th>\n",
       "      <th>highest_point</th>\n",
       "      <th>blue_runs</th>\n",
       "      <th>red_runs</th>\n",
       "      <th>black_runs</th>\n",
       "      <th>ski_lifts</th>\n",
       "      <th>price</th>\n",
       "    </tr>\n",
       "  </thead>\n",
       "  <tbody>\n",
       "    <tr>\n",
       "      <th>0</th>\n",
       "      <td>Ischgl/​Samnaun – Silvretta Arena</td>\n",
       "      <td>Austria</td>\n",
       "      <td>Tyrol (Tirol)</td>\n",
       "      <td>4.8</td>\n",
       "      <td>1512 m</td>\n",
       "      <td>1360 m</td>\n",
       "      <td>2872 m</td>\n",
       "      <td>47 km</td>\n",
       "      <td>143 km</td>\n",
       "      <td>49 km</td>\n",
       "      <td>41 ski lifts</td>\n",
       "      <td>€ 53.50</td>\n",
       "    </tr>\n",
       "    <tr>\n",
       "      <th>1</th>\n",
       "      <td>Carezza Ski</td>\n",
       "      <td>Italy</td>\n",
       "      <td>Trentino-Alto Adige (Trentino-Südtirol)</td>\n",
       "      <td>4</td>\n",
       "      <td>1155 m</td>\n",
       "      <td>1182 m</td>\n",
       "      <td>2337 m</td>\n",
       "      <td>19 km</td>\n",
       "      <td>16.2 km</td>\n",
       "      <td>4.8 km</td>\n",
       "      <td>12 ski lifts</td>\n",
       "      <td>€ 49.50</td>\n",
       "    </tr>\n",
       "    <tr>\n",
       "      <th>2</th>\n",
       "      <td>Silvretta Montafon</td>\n",
       "      <td>Austria</td>\n",
       "      <td>Vorarlberg</td>\n",
       "      <td>4.5</td>\n",
       "      <td>1730 m</td>\n",
       "      <td>700 m</td>\n",
       "      <td>2430 m</td>\n",
       "      <td>60 km</td>\n",
       "      <td>50 km</td>\n",
       "      <td>8 km</td>\n",
       "      <td>34 ski lifts</td>\n",
       "      <td>€ 57,-</td>\n",
       "    </tr>\n",
       "    <tr>\n",
       "      <th>3</th>\n",
       "      <td>Obertauern</td>\n",
       "      <td>Austria</td>\n",
       "      <td>Salzburg (Salzburger Land)</td>\n",
       "      <td>4.5</td>\n",
       "      <td>683 m</td>\n",
       "      <td>1630 m</td>\n",
       "      <td>2313 m</td>\n",
       "      <td>61 km</td>\n",
       "      <td>35 km</td>\n",
       "      <td>4 km</td>\n",
       "      <td>26 ski lifts</td>\n",
       "      <td>€ 49,-</td>\n",
       "    </tr>\n",
       "    <tr>\n",
       "      <th>4</th>\n",
       "      <td>Wildkogel – Neukirchen/​Bramberg</td>\n",
       "      <td>Austria</td>\n",
       "      <td>Salzburg (Salzburger Land)</td>\n",
       "      <td>4.3</td>\n",
       "      <td>1330 m</td>\n",
       "      <td>820 m</td>\n",
       "      <td>2150 m</td>\n",
       "      <td>35 km</td>\n",
       "      <td>30 km</td>\n",
       "      <td>10 km</td>\n",
       "      <td>19 ski lifts</td>\n",
       "      <td>€ 50.50</td>\n",
       "    </tr>\n",
       "    <tr>\n",
       "      <th>...</th>\n",
       "      <td>...</td>\n",
       "      <td>...</td>\n",
       "      <td>...</td>\n",
       "      <td>...</td>\n",
       "      <td>...</td>\n",
       "      <td>...</td>\n",
       "      <td>...</td>\n",
       "      <td>...</td>\n",
       "      <td>...</td>\n",
       "      <td>...</td>\n",
       "      <td>...</td>\n",
       "      <td>...</td>\n",
       "    </tr>\n",
       "    <tr>\n",
       "      <th>2445</th>\n",
       "      <td>Buschberg – Vorwerk (Lengefeld)</td>\n",
       "      <td>Germany</td>\n",
       "      <td>Saxony (Sachsen)</td>\n",
       "      <td>1.9</td>\n",
       "      <td>70 m</td>\n",
       "      <td>570 m</td>\n",
       "      <td>640 m</td>\n",
       "      <td>0.6 km</td>\n",
       "      <td>0 km</td>\n",
       "      <td>0 km</td>\n",
       "      <td>1 ski lift</td>\n",
       "      <td>None</td>\n",
       "    </tr>\n",
       "    <tr>\n",
       "      <th>2446</th>\n",
       "      <td>Geyersberg (Freyung)</td>\n",
       "      <td>Germany</td>\n",
       "      <td>Bavaria (Bayern)</td>\n",
       "      <td>1.9</td>\n",
       "      <td>206 m</td>\n",
       "      <td>654 m</td>\n",
       "      <td>860 m</td>\n",
       "      <td>0.6 km</td>\n",
       "      <td>0 km</td>\n",
       "      <td>0 km</td>\n",
       "      <td>2 ski lifts</td>\n",
       "      <td>€ 14,-</td>\n",
       "    </tr>\n",
       "    <tr>\n",
       "      <th>2447</th>\n",
       "      <td>Kirchbach (Rappottenstein)</td>\n",
       "      <td>Austria</td>\n",
       "      <td>Lower Austria (Niederösterreich)</td>\n",
       "      <td>1.9</td>\n",
       "      <td>90 m</td>\n",
       "      <td>650 m</td>\n",
       "      <td>740 m</td>\n",
       "      <td>0.6 km</td>\n",
       "      <td>0 km</td>\n",
       "      <td>0 km</td>\n",
       "      <td>2 ski lifts</td>\n",
       "      <td>€ 21,-</td>\n",
       "    </tr>\n",
       "    <tr>\n",
       "      <th>2448</th>\n",
       "      <td>Pukkivuori</td>\n",
       "      <td>Finland</td>\n",
       "      <td>West Finland (Länsi-Suomi)</td>\n",
       "      <td>1.9</td>\n",
       "      <td>20 m</td>\n",
       "      <td>114 m</td>\n",
       "      <td>134 m</td>\n",
       "      <td>0.7 km</td>\n",
       "      <td>0 km</td>\n",
       "      <td>0 km</td>\n",
       "      <td>2 ski lifts</td>\n",
       "      <td>€ 21,-</td>\n",
       "    </tr>\n",
       "    <tr>\n",
       "      <th>2449</th>\n",
       "      <td>Höhn-Schönberg</td>\n",
       "      <td>Germany</td>\n",
       "      <td>Central Uplands of Germany (Deutsche Mittelgeb...</td>\n",
       "      <td>1.9</td>\n",
       "      <td>80 m</td>\n",
       "      <td>420 m</td>\n",
       "      <td>500 m</td>\n",
       "      <td>0.7 km</td>\n",
       "      <td>0 km</td>\n",
       "      <td>0 km</td>\n",
       "      <td>2 ski lifts</td>\n",
       "      <td>€ 9,-</td>\n",
       "    </tr>\n",
       "  </tbody>\n",
       "</table>\n",
       "<p>2450 rows × 12 columns</p>\n",
       "</div>"
      ],
      "text/plain": [
       "                              resort_name  country  \\\n",
       "0      Ischgl/​Samnaun – Silvretta Arena   Austria   \n",
       "1                            Carezza Ski     Italy   \n",
       "2                     Silvretta Montafon   Austria   \n",
       "3                             Obertauern   Austria   \n",
       "4       Wildkogel – Neukirchen/​Bramberg   Austria   \n",
       "...                                   ...      ...   \n",
       "2445     Buschberg – Vorwerk (Lengefeld)   Germany   \n",
       "2446                Geyersberg (Freyung)   Germany   \n",
       "2447          Kirchbach (Rappottenstein)   Austria   \n",
       "2448                          Pukkivuori   Finland   \n",
       "2449                      Höhn-Schönberg   Germany   \n",
       "\n",
       "                                               province rating  \\\n",
       "0                                         Tyrol (Tirol)    4.8   \n",
       "1               Trentino-Alto Adige (Trentino-Südtirol)      4   \n",
       "2                                            Vorarlberg    4.5   \n",
       "3                            Salzburg (Salzburger Land)    4.5   \n",
       "4                            Salzburg (Salzburger Land)    4.3   \n",
       "...                                                 ...    ...   \n",
       "2445                                   Saxony (Sachsen)    1.9   \n",
       "2446                                   Bavaria (Bayern)    1.9   \n",
       "2447                   Lower Austria (Niederösterreich)    1.9   \n",
       "2448                         West Finland (Länsi-Suomi)    1.9   \n",
       "2449  Central Uplands of Germany (Deutsche Mittelgeb...    1.9   \n",
       "\n",
       "     elevation_lenght lowest_point highest_point blue_runs red_runs  \\\n",
       "0              1512 m       1360 m        2872 m     47 km   143 km   \n",
       "1              1155 m       1182 m        2337 m     19 km  16.2 km   \n",
       "2              1730 m        700 m        2430 m     60 km    50 km   \n",
       "3               683 m       1630 m        2313 m     61 km    35 km   \n",
       "4              1330 m        820 m        2150 m     35 km    30 km   \n",
       "...               ...          ...           ...       ...      ...   \n",
       "2445             70 m        570 m         640 m    0.6 km     0 km   \n",
       "2446            206 m        654 m         860 m    0.6 km     0 km   \n",
       "2447             90 m        650 m         740 m    0.6 km     0 km   \n",
       "2448             20 m        114 m         134 m    0.7 km     0 km   \n",
       "2449             80 m        420 m         500 m    0.7 km     0 km   \n",
       "\n",
       "     black_runs     ski_lifts    price  \n",
       "0         49 km  41 ski lifts  € 53.50  \n",
       "1        4.8 km  12 ski lifts  € 49.50  \n",
       "2          8 km  34 ski lifts   € 57,-  \n",
       "3          4 km  26 ski lifts   € 49,-  \n",
       "4         10 km  19 ski lifts  € 50.50  \n",
       "...         ...           ...      ...  \n",
       "2445       0 km    1 ski lift     None  \n",
       "2446       0 km   2 ski lifts   € 14,-  \n",
       "2447       0 km   2 ski lifts   € 21,-  \n",
       "2448       0 km   2 ski lifts   € 21,-  \n",
       "2449       0 km   2 ski lifts    € 9,-  \n",
       "\n",
       "[2450 rows x 12 columns]"
      ]
     },
     "execution_count": 160,
     "metadata": {},
     "output_type": "execute_result"
    }
   ],
   "source": [
    "df"
   ]
  },
  {
   "cell_type": "code",
   "execution_count": 161,
   "metadata": {},
   "outputs": [],
   "source": [
    "df.to_csv(\"ski_resorts_europe.csv\")\n"
   ]
  }
 ],
 "metadata": {
  "kernelspec": {
   "display_name": "Python 3",
   "language": "python",
   "name": "python3"
  },
  "language_info": {
   "codemirror_mode": {
    "name": "ipython",
    "version": 3
   },
   "file_extension": ".py",
   "mimetype": "text/x-python",
   "name": "python",
   "nbconvert_exporter": "python",
   "pygments_lexer": "ipython3",
   "version": "3.8.5"
  }
 },
 "nbformat": 4,
 "nbformat_minor": 4
}
